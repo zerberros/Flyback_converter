{
 "cells": [
  {
   "cell_type": "markdown",
   "id": "written-dinner",
   "metadata": {},
   "source": [
    "## Optocoupler\n"
   ]
  },
  {
   "cell_type": "markdown",
   "id": "impossible-completion",
   "metadata": {},
   "source": [
    "#### Test optocoupler\n",
    "\n",
    "![test optocoupler](./img/sim_optocoupler_curren-output_vs_current-input.png)\n",
    "\n",
    "* RED: Output current from optocoupler\n",
    "* GREEN: Input current at optocoupler"
   ]
  },
  {
   "cell_type": "markdown",
   "id": "facial-feedback",
   "metadata": {},
   "source": [
    "## Triangular Signal and MOSFET control\n",
    "\n",
    "![](img/sim_triang-signal_and_mosfet-ctrl_for_feedbk.png)\n",
    "\n",
    "* RED: Signal for control MOSFET\n",
    "* GREEN: Triangular signal. 142kHz\n",
    "* BLUE: control feedback signal\n"
   ]
  },
  {
   "cell_type": "code",
   "execution_count": null,
   "id": "quick-mandate",
   "metadata": {},
   "outputs": [],
   "source": []
  }
 ],
 "metadata": {
  "kernelspec": {
   "display_name": "Python 3",
   "language": "python",
   "name": "python3"
  },
  "language_info": {
   "codemirror_mode": {
    "name": "ipython",
    "version": 3
   },
   "file_extension": ".py",
   "mimetype": "text/x-python",
   "name": "python",
   "nbconvert_exporter": "python",
   "pygments_lexer": "ipython3",
   "version": "3.9.2"
  }
 },
 "nbformat": 4,
 "nbformat_minor": 5
}
