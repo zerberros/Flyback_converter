{
 "cells": [
  {
   "cell_type": "markdown",
   "id": "meaningful-manner",
   "metadata": {},
   "source": [
    "# Flyback  converter \n",
    "\n",
    "A flyback converter for audio amplifier power source\n",
    "\n",
    "![Flyback simple schem](./img/flyback_simple_schem.png)"
   ]
  },
  {
   "cell_type": "markdown",
   "id": "light-bahrain",
   "metadata": {},
   "source": [
    "## Specs\n",
    "\n",
    "* Vo = 50VDC\n",
    "* Po = 200W (Max.)\n",
    "* Vin = 230VAC"
   ]
  },
  {
   "cell_type": "code",
   "execution_count": 2,
   "id": "false-earthquake",
   "metadata": {},
   "outputs": [],
   "source": [
    "# import libraries\n",
    "\n",
    "import numpy as np\n",
    "from numpy import pi as π"
   ]
  },
  {
   "cell_type": "code",
   "execution_count": 3,
   "id": "expected-environment",
   "metadata": {},
   "outputs": [],
   "source": [
    "# initialize variables\n",
    "\n",
    "Vo = 50; Po = 200; Vi = 230*np.sqrt(2); Io = Po/Vo"
   ]
  },
  {
   "cell_type": "markdown",
   "id": "approximate-offset",
   "metadata": {},
   "source": [
    "## General equations\n",
    "\n",
    "DC Gain:\n",
    "$$\\frac{V_o}{V_i} = \\frac{D}{1-D} \\cdot \\left( \\frac{N_s}{N_p}\\right)$$\n",
    "\n",
    "Duty cycle:\n",
    "$$D= \\frac{ \\left( V_o + V_f \\right) \\cdot \\frac{N_p}{N_s}}{V_i + \\left(V_o + V_f \\right) \\cdot \\frac{N_p}{N_s}}$$ \n",
    "\n",
    "\n",
    "\n",
    "\n",
    "Secundary Inductance:\n",
    "$$L_s = \\frac{L_p}{\\left(\\frac{N_p}{N_s} \\right)²}$$\n",
    "\n",
    "Primary Current Ripple:\n",
    "$$I_{ripple} = \\frac{1}{L_p} \\cdot V_{in} \\cdot t_1$$\n",
    "\n",
    "Right Half Plane Zero:\n",
    "$$f_{rhpz} = \\frac{V_o \\cdot \\left( 1-D \\right)²}{2 \\cdot \\pi \\cdot D \\cdot L_s \\cdot I_o}$$"
   ]
  },
  {
   "cell_type": "markdown",
   "id": "controlled-design",
   "metadata": {},
   "source": []
  },
  {
   "cell_type": "code",
   "execution_count": 8,
   "id": "loved-avatar",
   "metadata": {},
   "outputs": [
    {
     "data": {
      "text/plain": [
       "4.336921591277492"
      ]
     },
     "execution_count": 8,
     "metadata": {},
     "output_type": "execute_result"
    }
   ],
   "source": [
    "D=0.4\n",
    "NpNs=D/(1-D)*Vi/Vo\n",
    "NpNs"
   ]
  },
  {
   "cell_type": "code",
   "execution_count": null,
   "id": "fabulous-wyoming",
   "metadata": {},
   "outputs": [],
   "source": []
  },
  {
   "cell_type": "code",
   "execution_count": null,
   "id": "equivalent-evidence",
   "metadata": {},
   "outputs": [],
   "source": []
  }
 ],
 "metadata": {
  "kernelspec": {
   "display_name": "Python 3",
   "language": "python",
   "name": "python3"
  },
  "language_info": {
   "codemirror_mode": {
    "name": "ipython",
    "version": 3
   },
   "file_extension": ".py",
   "mimetype": "text/x-python",
   "name": "python",
   "nbconvert_exporter": "python",
   "pygments_lexer": "ipython3",
   "version": "3.9.3"
  }
 },
 "nbformat": 4,
 "nbformat_minor": 5
}
